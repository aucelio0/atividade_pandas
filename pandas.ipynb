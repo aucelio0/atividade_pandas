{
 "cells": [
  {
   "cell_type": "markdown",
   "metadata": {},
   "source": [
    "---\n",
    "## Biblioteca \"**Pandas**\"\n",
    "---\n",
    "\n",
    "### 2. Pandas \n",
    " - A biblioteca Pandas é uma das ferramentas mais populares em Python para análise e manipulação de dados. Ela fornece estruturas de dados e funções poderosas para trabalhar com dados tabulares, como tabelas e planilhas. \n",
    "\n",
    "### 1. Estruturas de Dados Principais\n",
    "#### - Series:\n",
    "- É uma estrutura de dados unidimensional, semelhante a um vetor ou uma coluna em uma planilha. Pode conter dados de qualquer tipo (inteiros, strings, floats, etc.).\n",
    "\n",
    "#### - DataFrame:\n",
    "- É uma estrutura de dados bidimensional, semelhante a uma tabela ou uma planilha, onde você tem linhas e colunas. É a estrutura de dados mais usada no Pandas para análise e manipulação de dados."
   ]
  },
  {
   "cell_type": "markdown",
   "metadata": {},
   "source": [
    "---\n",
    "## Como utilizar o Pandas\n",
    "---\n",
    "#### Aqui está um guia básico sobre como começar a usar o Pandas:\n",
    "\n",
    "1. Intalação:\n",
    "\n",
    "- Se você ainda não tem o Pandas instalado, pode instalá-lo usando pip:"
   ]
  },
  {
   "cell_type": "markdown",
   "metadata": {},
   "source": [
    "`pip install pandas`"
   ]
  },
  {
   "cell_type": "markdown",
   "metadata": {},
   "source": [
    "2. Importação\n",
    "---\n",
    "- Antes de utiliza-lo, precisa importar no seu script ou notebook:  "
   ]
  },
  {
   "cell_type": "code",
   "execution_count": 5,
   "metadata": {},
   "outputs": [],
   "source": [
    "import pandas as pd"
   ]
  },
  {
   "cell_type": "markdown",
   "metadata": {},
   "source": [
    "3. Criando Estruturas de Dados\n",
    "---\n",
    "- Séries:"
   ]
  },
  {
   "cell_type": "code",
   "execution_count": 6,
   "metadata": {},
   "outputs": [
    {
     "name": "stdout",
     "output_type": "stream",
     "text": [
      "0    10\n",
      "1    20\n",
      "2    30\n",
      "3    40\n",
      "dtype: int64\n"
     ]
    }
   ],
   "source": [
    "# Criando uma Series\n",
    "\n",
    "data = [10, 20, 30, 40]\n",
    "series = pd.Series(data)\n",
    "print(series)\n"
   ]
  },
  {
   "cell_type": "markdown",
   "metadata": {},
   "source": [
    "- DataFrame"
   ]
  },
  {
   "cell_type": "code",
   "execution_count": 7,
   "metadata": {},
   "outputs": [
    {
     "name": "stdout",
     "output_type": "stream",
     "text": [
      "    Nome  Idade\n",
      "0    Ana     28\n",
      "1   José     34\n",
      "2  Maria     29\n"
     ]
    }
   ],
   "source": [
    "# Criando um DataFrame a partir de um dicionário\n",
    "data = {\n",
    "    'Nome': ['Ana', 'José', 'Maria'],\n",
    "    'Idade': [28, 34, 29]\n",
    "}\n",
    "df = pd.DataFrame(data)\n",
    "print(df)"
   ]
  },
  {
   "cell_type": "markdown",
   "metadata": {},
   "source": [
    "4. Leitura e Escrita de Arquivos\n",
    "---\n",
    "- Ler de um arquivo CSV:"
   ]
  },
  {
   "cell_type": "code",
   "execution_count": null,
   "metadata": {},
   "outputs": [],
   "source": [
    "df = pd.read_csv('caminho/para/o/arquivo.csv')\n"
   ]
  },
  {
   "cell_type": "markdown",
   "metadata": {},
   "source": [
    "- Escrever em um arquivo CSV:"
   ]
  },
  {
   "cell_type": "code",
   "execution_count": null,
   "metadata": {},
   "outputs": [],
   "source": [
    "df.to_csv('caminho/para/o/arquivo.csv', index=False)\n"
   ]
  },
  {
   "cell_type": "markdown",
   "metadata": {},
   "source": [
    "5. Manipulação de Dados\n",
    "---\n",
    "\n",
    "- Visualizar as primeiras linhas:"
   ]
  },
  {
   "cell_type": "code",
   "execution_count": 10,
   "metadata": {},
   "outputs": [
    {
     "name": "stdout",
     "output_type": "stream",
     "text": [
      "    Nome  Idade\n",
      "0    Ana     28\n",
      "1   José     34\n",
      "2  Maria     29\n"
     ]
    }
   ],
   "source": [
    "print(df.head())  # Exibe as primeiras 5 linhas\n"
   ]
  },
  {
   "cell_type": "markdown",
   "metadata": {},
   "source": [
    "- Selecionar colunas:"
   ]
  },
  {
   "cell_type": "code",
   "execution_count": 11,
   "metadata": {},
   "outputs": [],
   "source": [
    "colunas = df[['Nome', 'Idade']]\n"
   ]
  },
  {
   "cell_type": "markdown",
   "metadata": {},
   "source": [
    "- Filtrar linhas:"
   ]
  },
  {
   "cell_type": "code",
   "execution_count": 12,
   "metadata": {},
   "outputs": [],
   "source": [
    "filtro = df[df['Idade'] > 30]\n"
   ]
  },
  {
   "cell_type": "markdown",
   "metadata": {},
   "source": [
    "- Adicionar novas colunas:"
   ]
  },
  {
   "cell_type": "code",
   "execution_count": 13,
   "metadata": {},
   "outputs": [],
   "source": [
    "df['NovaColuna'] = [1, 2, 3]\n"
   ]
  },
  {
   "cell_type": "markdown",
   "metadata": {},
   "source": [
    "- Remover colunas:"
   ]
  },
  {
   "cell_type": "code",
   "execution_count": 14,
   "metadata": {},
   "outputs": [],
   "source": [
    "df = df.drop('NovaColuna', axis=1)\n"
   ]
  },
  {
   "cell_type": "markdown",
   "metadata": {},
   "source": [
    "- Agrupar e resumir dados:\n"
   ]
  },
  {
   "cell_type": "code",
   "execution_count": 9,
   "metadata": {},
   "outputs": [],
   "source": [
    "resumo = df.groupby('Nome').sum()\n"
   ]
  },
  {
   "cell_type": "markdown",
   "metadata": {},
   "source": [
    "6. Manipulação Avançada\n",
    "---\n",
    "- Merge (junção de DataFrames):"
   ]
  },
  {
   "cell_type": "code",
   "execution_count": 15,
   "metadata": {},
   "outputs": [],
   "source": [
    "df1 = pd.DataFrame({'ID': [1, 2], 'Nome': ['Ana', 'José']})\n",
    "df2 = pd.DataFrame({'ID': [1, 2], 'Idade': [28, 34]})\n",
    "merged_df = pd.merge(df1, df2, on='ID')\n"
   ]
  },
  {
   "cell_type": "markdown",
   "metadata": {},
   "source": [
    "- Pivot Tables (tabelas dinâmicas):"
   ]
  },
  {
   "cell_type": "code",
   "execution_count": 16,
   "metadata": {},
   "outputs": [],
   "source": [
    "pivot = df.pivot_table(values='Idade', index='Nome', aggfunc='mean')\n"
   ]
  },
  {
   "cell_type": "markdown",
   "metadata": {},
   "source": [
    "---\n",
    "#### Exemplos de uso:\n",
    "----\n",
    "Aqui está um exemplo mais completo que lê um arquivo CSV, faz algumas manipulações e salva o resultado:"
   ]
  },
  {
   "cell_type": "code",
   "execution_count": null,
   "metadata": {},
   "outputs": [],
   "source": [
    "import pandas as pd\n",
    "\n",
    "# Ler dados de um arquivo CSV\n",
    "df = pd.read_csv('dados.csv')\n",
    "\n",
    "# Exibir as primeiras linhas\n",
    "print(df.head())\n",
    "\n",
    "# Filtrar dados\n",
    "df_filtrado = df[df['Idade'] > 30]\n",
    "\n",
    "# Adicionar uma nova coluna\n",
    "df_filtrado['NovaColuna'] = df_filtrado['Idade'] * 2\n",
    "\n",
    "# Salvar o DataFrame filtrado em um novo arquivo CSV\n",
    "df_filtrado.to_csv('dados_filtrados.csv', index=False)\n"
   ]
  }
 ],
 "metadata": {
  "kernelspec": {
   "display_name": ".venv",
   "language": "python",
   "name": "python3"
  },
  "language_info": {
   "codemirror_mode": {
    "name": "ipython",
    "version": 3
   },
   "file_extension": ".py",
   "mimetype": "text/x-python",
   "name": "python",
   "nbconvert_exporter": "python",
   "pygments_lexer": "ipython3",
   "version": "3.12.5"
  }
 },
 "nbformat": 4,
 "nbformat_minor": 2
}
